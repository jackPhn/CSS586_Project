{
 "cells": [
  {
   "cell_type": "code",
   "execution_count": 1,
   "id": "d9a1d1aa",
   "metadata": {},
   "outputs": [
    {
     "name": "stdout",
     "output_type": "stream",
     "text": [
      "INFO:tensorflow:Enabling eager execution\n",
      "INFO:tensorflow:Enabling v2 tensorshape\n",
      "INFO:tensorflow:Enabling resource variables\n",
      "INFO:tensorflow:Enabling tensor equality\n",
      "INFO:tensorflow:Enabling control flow v2\n",
      "Num GPUs Available:  1\n"
     ]
    }
   ],
   "source": [
    "import glob\n",
    "import pathlib\n",
    "import pickle\n",
    "import numpy as np\n",
    "import sys\n",
    "import os\n",
    "from music21 import *\n",
    "import tensorflow as tf\n",
    "from tensorflow import keras\n",
    "from tensorflow.keras.models import Sequential\n",
    "from tensorflow.keras.layers import LSTM, BatchNormalization, Dropout, Dense, Activation\n",
    "\n",
    "sys.path.append(\"..\")\n",
    "from musiclearn import config\n",
    "\n",
    "print(\"Num GPUs Available: \", len(tf.config.list_physical_devices('GPU')))"
   ]
  },
  {
   "cell_type": "code",
   "execution_count": 2,
   "id": "d564339c",
   "metadata": {},
   "outputs": [],
   "source": [
    "def read_midi(file):\n",
    "    \"\"\" Read a midi file and extract piano track \"\"\"\n",
    "    print(\"Loading misic file:\", file)\n",
    "    \n",
    "    notes = []\n",
    "    \n",
    "    notes_to_parse = None\n",
    "    \n",
    "    # parsing a midi file\n",
    "    midi = converter.parse(file)\n",
    "    \n",
    "    # grouping based on different instruments\n",
    "    s2 = instrument.partitionByInstrument(midi)\n",
    "    \n",
    "    # Looping over all the instruments\n",
    "    for part in s2.parts:\n",
    "        # select elements of only piano\n",
    "        if \"Piano\" in str(part):\n",
    "            notes_to_parse = part.recurse()\n",
    "    \n",
    "    # if there are notes to parse\n",
    "    if notes_to_parse is not None:\n",
    "        # finding whether an element is a note or a chord\n",
    "        for element in notes_to_parse:\n",
    "            if isinstance(element, note.Note):   # is note\n",
    "                notes.append(str(element.pitch))\n",
    "            elif isinstance(element, chord.Chord): # is chord\n",
    "                notes.append('.'.join(str(n) for n in element.normalOrder))\n",
    "    \n",
    "    return np.array(notes)       "
   ]
  },
  {
   "cell_type": "code",
   "execution_count": 3,
   "id": "137dbf15",
   "metadata": {},
   "outputs": [],
   "source": [
    "# specify the part to Schubert\n",
    "midi_path = pathlib.Path(config.MUSICNET_MIDI_DIR)\n",
    "schubert_path = midi_path / \"Schubert\""
   ]
  },
  {
   "cell_type": "code",
   "execution_count": 4,
   "id": "48a9b218",
   "metadata": {},
   "outputs": [
    {
     "name": "stdout",
     "output_type": "stream",
     "text": [
      "Loading misic file: /csslab-localdata/csslab-si/jack_working_dir/musicnet_midis/Schubert/1734_sy_sps93.mid\n",
      "Loading misic file: /csslab-localdata/csslab-si/jack_working_dir/musicnet_midis/Schubert/1727_schubert_op114_2.mid\n",
      "Loading misic file: /csslab-localdata/csslab-si/jack_working_dir/musicnet_midis/Schubert/1752_sy_sps14.mid\n",
      "Loading misic file: /csslab-localdata/csslab-si/jack_working_dir/musicnet_midis/Schubert/1756_sy_sps53.mid\n",
      "Loading misic file: /csslab-localdata/csslab-si/jack_working_dir/musicnet_midis/Schubert/1757_d958-1.mid\n",
      "Loading misic file: /csslab-localdata/csslab-si/jack_working_dir/musicnet_midis/Schubert/1751_sy_sps13.mid\n",
      "Loading misic file: /csslab-localdata/csslab-si/jack_working_dir/musicnet_midis/Schubert/1763_scbt1421.mid\n",
      "Loading misic file: /csslab-localdata/csslab-si/jack_working_dir/musicnet_midis/Schubert/1764_scbt1422.mid\n",
      "Loading misic file: /csslab-localdata/csslab-si/jack_working_dir/musicnet_midis/Schubert/1777_sy_sps23.mid\n",
      "Loading misic file: /csslab-localdata/csslab-si/jack_working_dir/musicnet_midis/Schubert/1730_schubert_op114_5.mid\n",
      "Loading misic file: /csslab-localdata/csslab-si/jack_working_dir/musicnet_midis/Schubert/1759_d958-3.mid\n",
      "Loading misic file: /csslab-localdata/csslab-si/jack_working_dir/musicnet_midis/Schubert/1758_d958-2.mid\n",
      "Loading misic file: /csslab-localdata/csslab-si/jack_working_dir/musicnet_midis/Schubert/1772_sy_sps42.mid\n",
      "Loading misic file: /csslab-localdata/csslab-si/jack_working_dir/musicnet_midis/Schubert/1733_sy_sps92.mid\n",
      "Loading misic file: /csslab-localdata/csslab-si/jack_working_dir/musicnet_midis/Schubert/1742_sb163m2.mid\n",
      "Loading misic file: /csslab-localdata/csslab-si/jack_working_dir/musicnet_midis/Schubert/1728_schubert_op114_3.mid\n",
      "Loading misic file: /csslab-localdata/csslab-si/jack_working_dir/musicnet_midis/Schubert/1750_sy_sps12.mid\n",
      "Loading misic file: /csslab-localdata/csslab-si/jack_working_dir/musicnet_midis/Schubert/1768_sy_sps32.mid\n",
      "Loading misic file: /csslab-localdata/csslab-si/jack_working_dir/musicnet_midis/Schubert/1765_scbt1423.mid\n",
      "Loading misic file: /csslab-localdata/csslab-si/jack_working_dir/musicnet_midis/Schubert/1775_sy_sps21.mid\n",
      "Loading misic file: /csslab-localdata/csslab-si/jack_working_dir/musicnet_midis/Schubert/1771_sy_sps41.mid\n",
      "Loading misic file: /csslab-localdata/csslab-si/jack_working_dir/musicnet_midis/Schubert/1735_sy_sps94.mid\n",
      "Loading misic file: /csslab-localdata/csslab-si/jack_working_dir/musicnet_midis/Schubert/1729_schubert_op114_4.mid\n",
      "Loading misic file: /csslab-localdata/csslab-si/jack_working_dir/musicnet_midis/Schubert/1755_sy_sps52.mid\n",
      "Loading misic file: /csslab-localdata/csslab-si/jack_working_dir/musicnet_midis/Schubert/1760_d958-4.mid\n",
      "Loading misic file: /csslab-localdata/csslab-si/jack_working_dir/musicnet_midis/Schubert/1749_sy_sps11.mid\n",
      "Loading misic file: /csslab-localdata/csslab-si/jack_working_dir/musicnet_midis/Schubert/1766_scbt1424.mid\n",
      "Loading misic file: /csslab-localdata/csslab-si/jack_working_dir/musicnet_midis/Schubert/1773_sy_sps43.mid\n",
      "Loading misic file: /csslab-localdata/csslab-si/jack_working_dir/musicnet_midis/Schubert/1739_sb99m4.mid\n",
      "Loading misic file: /csslab-localdata/csslab-si/jack_working_dir/musicnet_midis/Schubert/1776_sy_sps22.mid\n"
     ]
    },
    {
     "name": "stderr",
     "output_type": "stream",
     "text": [
      "<ipython-input-4-e905dfa11e8a>:5: VisibleDeprecationWarning: Creating an ndarray from ragged nested sequences (which is a list-or-tuple of lists-or-tuples-or ndarrays with different lengths or shapes) is deprecated. If you meant to do this, you must specify 'dtype=object' when creating the ndarray\n",
      "  notes_array = np.array([read_midi(str(schubert_path/fname)) for fname in files_names])\n"
     ]
    }
   ],
   "source": [
    "# read the files\n",
    "files_names = [i for i in os.listdir(schubert_path) if i.endswith(\".mid\")]\n",
    "\n",
    "# extract the notes from piano tracks\n",
    "notes_array = np.array([read_midi(str(schubert_path/fname)) for fname in files_names])"
   ]
  },
  {
   "cell_type": "code",
   "execution_count": 5,
   "id": "36b6f217",
   "metadata": {},
   "outputs": [
    {
     "name": "stdout",
     "output_type": "stream",
     "text": [
      "No. unique notes = 312\n"
     ]
    }
   ],
   "source": [
    "# convert 2D array to 1D\n",
    "notes_ = [element for note_ in notes_array for element in note_]\n",
    "\n",
    "# number of unique notes\n",
    "unique_notes = list(set(notes_))\n",
    "print(\"No. unique notes =\", len(unique_notes))"
   ]
  },
  {
   "cell_type": "code",
   "execution_count": 6,
   "id": "89411eb9",
   "metadata": {},
   "outputs": [
    {
     "data": {
      "text/plain": [
       "(array([208.,  38.,  18.,  11.,   7.,   8.,  11.,   8.,   1.,   2.]),\n",
       " array([1.0000e+00, 1.9010e+02, 3.7920e+02, 5.6830e+02, 7.5740e+02,\n",
       "        9.4650e+02, 1.1356e+03, 1.3247e+03, 1.5138e+03, 1.7029e+03,\n",
       "        1.8920e+03]),\n",
       " <BarContainer object of 10 artists>)"
      ]
     },
     "execution_count": 6,
     "metadata": {},
     "output_type": "execute_result"
    },
    {
     "data": {
      "image/png": "[encoded data removed]",
      "text/plain": [
       "<Figure size 360x360 with 1 Axes>"
      ]
     },
     "metadata": {
      "image/png": {
       "height": 302,
       "width": 319
      },
      "needs_background": "light"
     },
     "output_type": "display_data"
    }
   ],
   "source": [
    "from collections import Counter\n",
    "import matplotlib.pyplot as plt\n",
    "\n",
    "# computing frequency of each note\n",
    "freq = dict(Counter(notes_))\n",
    "\n",
    "# consider only the frequencies\n",
    "no = [count for _, count in freq.items()]\n",
    "\n",
    "plt.figure(figsize=(5,5))\n",
    "plt.hist(no)"
   ]
  },
  {
   "cell_type": "code",
   "execution_count": 7,
   "id": "7b307af3",
   "metadata": {},
   "outputs": [
    {
     "name": "stdout",
     "output_type": "stream",
     "text": [
      "176\n"
     ]
    }
   ],
   "source": [
    "# filter out the notes that have a frequency lower than 50\n",
    "frequent_notes = [note_ for note_, count in freq.items() if count >= 50]\n",
    "print(len(frequent_notes))"
   ]
  },
  {
   "cell_type": "code",
   "execution_count": 8,
   "id": "87619f0f",
   "metadata": {},
   "outputs": [
    {
     "name": "stderr",
     "output_type": "stream",
     "text": [
      "<ipython-input-8-0260187a6469>:11: VisibleDeprecationWarning: Creating an ndarray from ragged nested sequences (which is a list-or-tuple of lists-or-tuples-or ndarrays with different lengths or shapes) is deprecated. If you meant to do this, you must specify 'dtype=object' when creating the ndarray\n",
      "  new_music = np.array(new_music)\n"
     ]
    }
   ],
   "source": [
    "# filter out the notes with low frequency from the original data\n",
    "new_music = []\n",
    "\n",
    "for notes in notes_array:\n",
    "    temp = []\n",
    "    for note_ in notes:\n",
    "        if note_ in frequent_notes:\n",
    "            temp.append(note_)\n",
    "    new_music.append(temp)\n",
    "    \n",
    "new_music = np.array(new_music)"
   ]
  },
  {
   "cell_type": "code",
   "execution_count": 9,
   "id": "d808ed3e",
   "metadata": {},
   "outputs": [],
   "source": [
    "# prepare data for training\n",
    "# number of time steps\n",
    "no_timesteps = 32\n",
    "\n",
    "X = []\n",
    "Y = []\n",
    "\n",
    "for note_ in new_music:\n",
    "    for i in range(0, len(note_) - no_timesteps, 1):\n",
    "        # preparing the input and outout sequence\n",
    "        input_ = note_[i: i + no_timesteps]\n",
    "        output_ = note_[i + no_timesteps]\n",
    "        \n",
    "        X.append(input_)\n",
    "        Y.append(output_)\n",
    "\n",
    "X = np.array(X)\n",
    "Y = np.array(Y)"
   ]
  },
  {
   "cell_type": "code",
   "execution_count": 10,
   "id": "557d65a7",
   "metadata": {},
   "outputs": [],
   "source": [
    "# assign unique integer to every note\n",
    "unique_X = list(set(X.ravel()))\n",
    "X_note_to_int = dict((note_, number) for number, note_ in enumerate(unique_X))\n",
    "\n",
    "unique_Y = list(set(Y))\n",
    "Y_note_to_int = dict((note_, number) for number, note_ in enumerate(unique_Y))"
   ]
  },
  {
   "cell_type": "code",
   "execution_count": 11,
   "id": "e0d133de",
   "metadata": {},
   "outputs": [],
   "source": [
    "# prepare the input sequence\n",
    "X_seq = []\n",
    "for i in X:\n",
    "    temp = []\n",
    "    for j in i:\n",
    "        # convert notes to unique integers\n",
    "        temp.append(X_note_to_int[j])\n",
    "    X_seq.append(temp)\n",
    "\n",
    "X_seq = np.array(X_seq)"
   ]
  },
  {
   "cell_type": "code",
   "execution_count": 12,
   "id": "34323d1d",
   "metadata": {},
   "outputs": [],
   "source": [
    "# prepare the output note\n",
    "Y_seq = np.array([Y_note_to_int[i] for i in Y])"
   ]
  },
  {
   "cell_type": "code",
   "execution_count": 17,
   "id": "ad0c2dd6",
   "metadata": {},
   "outputs": [],
   "source": [
    "# train test split 80/20\n",
    "from sklearn.model_selection import train_test_split\n",
    "X_train, X_val, Y_train, Y_val = train_test_split(X_seq, Y_seq, test_size=0.2, random_state=0)"
   ]
  },
  {
   "cell_type": "code",
   "execution_count": null,
   "id": "16778872",
   "metadata": {},
   "outputs": [],
   "source": [
    "def lstm():\n",
    "    \"\"\" LSTM model \"\"\"\n",
    "    model = Sequential()\n",
    "    model.add(LSTM(128,return_sequences=True))\n",
    "    model.add(LSTM(128))\n",
    "    model.add(Dense(256))\n",
    "    model.add(Activation('relu'))\n",
    "    model.add(Dense(n_vocab))\n",
    "    model.add(Activation('softmax'))\n",
    "    model.compile(loss='sparse_categorical_crossentropy', optimizer='adam')\n",
    "    return model"
   ]
  },
  {
   "cell_type": "code",
   "execution_count": 16,
   "id": "f6447a2f",
   "metadata": {},
   "outputs": [
    {
     "name": "stdout",
     "output_type": "stream",
     "text": [
      "Model: \"sequential\"\n",
      "_________________________________________________________________\n",
      "Layer (type)                 Output Shape              Param #   \n",
      "=================================================================\n",
      "embedding (Embedding)        (None, 32, 100)           17600     \n",
      "_________________________________________________________________\n",
      "conv1d (Conv1D)              (None, 32, 64)            19264     \n",
      "_________________________________________________________________\n",
      "dropout (Dropout)            (None, 32, 64)            0         \n",
      "_________________________________________________________________\n",
      "max_pooling1d (MaxPooling1D) (None, 16, 64)            0         \n",
      "_________________________________________________________________\n",
      "conv1d_1 (Conv1D)            (None, 16, 128)           24704     \n",
      "_________________________________________________________________\n",
      "dropout_1 (Dropout)          (None, 16, 128)           0         \n",
      "_________________________________________________________________\n",
      "max_pooling1d_1 (MaxPooling1 (None, 8, 128)            0         \n",
      "_________________________________________________________________\n",
      "conv1d_2 (Conv1D)            (None, 8, 256)            98560     \n",
      "_________________________________________________________________\n",
      "dropout_2 (Dropout)          (None, 8, 256)            0         \n",
      "_________________________________________________________________\n",
      "max_pooling1d_2 (MaxPooling1 (None, 4, 256)            0         \n",
      "_________________________________________________________________\n",
      "global_max_pooling1d (Global (None, 256)               0         \n",
      "_________________________________________________________________\n",
      "dense (Dense)                (None, 256)               65792     \n",
      "_________________________________________________________________\n",
      "dense_1 (Dense)              (None, 176)               45232     \n",
      "=================================================================\n",
      "Total params: 271,152\n",
      "Trainable params: 271,152\n",
      "Non-trainable params: 0\n",
      "_________________________________________________________________\n"
     ]
    }
   ],
   "source": [
    "from tensorflow.keras.layers import *\n",
    "from tensorflow.keras.models import *\n",
    "from tensorflow.keras.callbacks import ModelCheckpoint\n",
    "import tensorflow.keras.backend as K\n",
    "\n",
    "K.clear_session()\n",
    "\n",
    "model = Sequential()\n",
    "\n",
    "# embedding layber\n",
    "model.add(Embedding(len(unique_X), 100, input_length = no_timesteps, trainable=True))\n",
    "\n",
    "model.add(Conv1D(64,3, padding='causal',activation='relu'))\n",
    "model.add(Dropout(0.2))\n",
    "model.add(MaxPool1D(2))\n",
    "    \n",
    "model.add(Conv1D(128,3,activation='relu',dilation_rate=2,padding='causal'))\n",
    "model.add(Dropout(0.2))\n",
    "model.add(MaxPool1D(2))\n",
    "\n",
    "model.add(Conv1D(256,3,activation='relu',dilation_rate=4,padding='causal'))\n",
    "model.add(Dropout(0.2))\n",
    "model.add(MaxPool1D(2))\n",
    "          \n",
    "#model.add(Conv1D(256,5,activation='relu'))    \n",
    "model.add(GlobalMaxPool1D())\n",
    "    \n",
    "model.add(Dense(256, activation='relu'))\n",
    "model.add(Dense(len(unique_Y), activation='softmax'))\n",
    "    \n",
    "model.compile(loss='sparse_categorical_crossentropy', optimizer='adam')\n",
    "\n",
    "model.summary()"
   ]
  },
  {
   "cell_type": "code",
   "execution_count": 19,
   "id": "053f9f30",
   "metadata": {},
   "outputs": [
    {
     "name": "stdout",
     "output_type": "stream",
     "text": [
      "Epoch 1/50\n",
      "478/478 [==============================] - 8s 13ms/step - loss: 4.5341 - val_loss: 4.0248\n",
      "\n",
      "Epoch 00001: val_loss improved from inf to 4.02480, saving model to wavenet_weights.hdf5\n",
      "Epoch 2/50\n",
      "478/478 [==============================] - 7s 14ms/step - loss: 3.7893 - val_loss: 3.7909\n",
      "\n",
      "Epoch 00002: val_loss improved from 4.02480 to 3.79091, saving model to wavenet_weights.hdf5\n",
      "Epoch 3/50\n",
      "478/478 [==============================] - 7s 14ms/step - loss: 3.5962 - val_loss: 3.6483\n",
      "\n",
      "Epoch 00003: val_loss improved from 3.79091 to 3.64834, saving model to wavenet_weights.hdf5\n",
      "Epoch 4/50\n",
      "478/478 [==============================] - 7s 14ms/step - loss: 3.4756 - val_loss: 3.5964\n",
      "\n",
      "Epoch 00004: val_loss improved from 3.64834 to 3.59640, saving model to wavenet_weights.hdf5\n",
      "Epoch 5/50\n",
      "478/478 [==============================] - 7s 14ms/step - loss: 3.3767 - val_loss: 3.5041\n",
      "\n",
      "Epoch 00005: val_loss improved from 3.59640 to 3.50408, saving model to wavenet_weights.hdf5\n",
      "Epoch 6/50\n",
      "478/478 [==============================] - 7s 14ms/step - loss: 3.2952 - val_loss: 3.4147\n",
      "\n",
      "Epoch 00006: val_loss improved from 3.50408 to 3.41474, saving model to wavenet_weights.hdf5\n",
      "Epoch 7/50\n",
      "478/478 [==============================] - 6s 13ms/step - loss: 3.2311 - val_loss: 3.3949\n",
      "\n",
      "Epoch 00007: val_loss improved from 3.41474 to 3.39492, saving model to wavenet_weights.hdf5\n",
      "Epoch 8/50\n",
      "478/478 [==============================] - 7s 14ms/step - loss: 3.1689 - val_loss: 3.3591\n",
      "\n",
      "Epoch 00008: val_loss improved from 3.39492 to 3.35912, saving model to wavenet_weights.hdf5\n",
      "Epoch 9/50\n",
      "478/478 [==============================] - 7s 14ms/step - loss: 3.1194 - val_loss: 3.3319\n",
      "\n",
      "Epoch 00009: val_loss improved from 3.35912 to 3.33192, saving model to wavenet_weights.hdf5\n",
      "Epoch 10/50\n",
      "478/478 [==============================] - 7s 14ms/step - loss: 3.0692 - val_loss: 3.2892\n",
      "\n",
      "Epoch 00010: val_loss improved from 3.33192 to 3.28916, saving model to wavenet_weights.hdf5\n",
      "Epoch 11/50\n",
      "478/478 [==============================] - 6s 13ms/step - loss: 3.0396 - val_loss: 3.2486\n",
      "\n",
      "Epoch 00011: val_loss improved from 3.28916 to 3.24860, saving model to wavenet_weights.hdf5\n",
      "Epoch 12/50\n",
      "478/478 [==============================] - 6s 13ms/step - loss: 2.9825 - val_loss: 3.2171\n",
      "\n",
      "Epoch 00012: val_loss improved from 3.24860 to 3.21705, saving model to wavenet_weights.hdf5\n",
      "Epoch 13/50\n",
      "478/478 [==============================] - 7s 14ms/step - loss: 2.9521 - val_loss: 3.2135\n",
      "\n",
      "Epoch 00013: val_loss improved from 3.21705 to 3.21351, saving model to wavenet_weights.hdf5\n",
      "Epoch 14/50\n",
      "478/478 [==============================] - 7s 14ms/step - loss: 2.9166 - val_loss: 3.1988\n",
      "\n",
      "Epoch 00014: val_loss improved from 3.21351 to 3.19880, saving model to wavenet_weights.hdf5\n",
      "Epoch 15/50\n",
      "478/478 [==============================] - 6s 13ms/step - loss: 2.8931 - val_loss: 3.1534\n",
      "\n",
      "Epoch 00015: val_loss improved from 3.19880 to 3.15344, saving model to wavenet_weights.hdf5\n",
      "Epoch 16/50\n",
      "478/478 [==============================] - 6s 13ms/step - loss: 2.8583 - val_loss: 3.1426\n",
      "\n",
      "Epoch 00016: val_loss improved from 3.15344 to 3.14255, saving model to wavenet_weights.hdf5\n",
      "Epoch 17/50\n",
      "478/478 [==============================] - 7s 14ms/step - loss: 2.8187 - val_loss: 3.1285\n",
      "\n",
      "Epoch 00017: val_loss improved from 3.14255 to 3.12845, saving model to wavenet_weights.hdf5\n",
      "Epoch 18/50\n",
      "478/478 [==============================] - 7s 14ms/step - loss: 2.8047 - val_loss: 3.1024\n",
      "\n",
      "Epoch 00018: val_loss improved from 3.12845 to 3.10241, saving model to wavenet_weights.hdf5\n",
      "Epoch 19/50\n",
      "478/478 [==============================] - 6s 13ms/step - loss: 2.7600 - val_loss: 3.1206\n",
      "\n",
      "Epoch 00019: val_loss did not improve from 3.10241\n",
      "Epoch 20/50\n",
      "478/478 [==============================] - 6s 13ms/step - loss: 2.7530 - val_loss: 3.0762\n",
      "\n",
      "Epoch 00020: val_loss improved from 3.10241 to 3.07617, saving model to wavenet_weights.hdf5\n",
      "Epoch 21/50\n",
      "478/478 [==============================] - 6s 14ms/step - loss: 2.7451 - val_loss: 3.0640\n",
      "\n",
      "Epoch 00021: val_loss improved from 3.07617 to 3.06404, saving model to wavenet_weights.hdf5\n",
      "Epoch 22/50\n",
      "478/478 [==============================] - 7s 14ms/step - loss: 2.7287 - val_loss: 3.0574\n",
      "\n",
      "Epoch 00022: val_loss improved from 3.06404 to 3.05735, saving model to wavenet_weights.hdf5\n",
      "Epoch 23/50\n",
      "478/478 [==============================] - 7s 14ms/step - loss: 2.6949 - val_loss: 3.0265\n",
      "\n",
      "Epoch 00023: val_loss improved from 3.05735 to 3.02651, saving model to wavenet_weights.hdf5\n",
      "Epoch 24/50\n",
      "478/478 [==============================] - 7s 14ms/step - loss: 2.6764 - val_loss: 3.0262\n",
      "\n",
      "Epoch 00024: val_loss improved from 3.02651 to 3.02619, saving model to wavenet_weights.hdf5\n",
      "Epoch 25/50\n",
      "478/478 [==============================] - 6s 14ms/step - loss: 2.6705 - val_loss: 3.0091\n",
      "\n",
      "Epoch 00025: val_loss improved from 3.02619 to 3.00906, saving model to wavenet_weights.hdf5\n",
      "Epoch 26/50\n",
      "478/478 [==============================] - 6s 13ms/step - loss: 2.6501 - val_loss: 3.0168\n",
      "\n",
      "Epoch 00026: val_loss did not improve from 3.00906\n",
      "Epoch 27/50\n",
      "478/478 [==============================] - 7s 14ms/step - loss: 2.6405 - val_loss: 2.9913\n",
      "\n",
      "Epoch 00027: val_loss improved from 3.00906 to 2.99133, saving model to wavenet_weights.hdf5\n",
      "Epoch 28/50\n",
      "478/478 [==============================] - 6s 13ms/step - loss: 2.6238 - val_loss: 2.9932\n",
      "\n",
      "Epoch 00028: val_loss did not improve from 2.99133\n",
      "Epoch 29/50\n",
      "478/478 [==============================] - 7s 15ms/step - loss: 2.6079 - val_loss: 2.9871\n",
      "\n",
      "Epoch 00029: val_loss improved from 2.99133 to 2.98714, saving model to wavenet_weights.hdf5\n",
      "Epoch 30/50\n",
      "478/478 [==============================] - 7s 14ms/step - loss: 2.5890 - val_loss: 2.9618\n",
      "\n",
      "Epoch 00030: val_loss improved from 2.98714 to 2.96180, saving model to wavenet_weights.hdf5\n",
      "Epoch 31/50\n",
      "478/478 [==============================] - 7s 14ms/step - loss: 2.5753 - val_loss: 2.9756\n",
      "\n",
      "Epoch 00031: val_loss did not improve from 2.96180\n",
      "Epoch 32/50\n",
      "478/478 [==============================] - 7s 14ms/step - loss: 2.5693 - val_loss: 2.9661\n",
      "\n",
      "Epoch 00032: val_loss did not improve from 2.96180\n",
      "Epoch 33/50\n",
      "478/478 [==============================] - 6s 13ms/step - loss: 2.5618 - val_loss: 2.9600\n",
      "\n",
      "Epoch 00033: val_loss improved from 2.96180 to 2.96001, saving model to wavenet_weights.hdf5\n",
      "Epoch 34/50\n",
      "478/478 [==============================] - 7s 14ms/step - loss: 2.5467 - val_loss: 2.9495\n",
      "\n",
      "Epoch 00034: val_loss improved from 2.96001 to 2.94946, saving model to wavenet_weights.hdf5\n",
      "Epoch 35/50\n",
      "478/478 [==============================] - 7s 14ms/step - loss: 2.5449 - val_loss: 2.9414\n",
      "\n",
      "Epoch 00035: val_loss improved from 2.94946 to 2.94140, saving model to wavenet_weights.hdf5\n",
      "Epoch 36/50\n",
      "478/478 [==============================] - 7s 14ms/step - loss: 2.5307 - val_loss: 2.9378\n",
      "\n",
      "Epoch 00036: val_loss improved from 2.94140 to 2.93783, saving model to wavenet_weights.hdf5\n",
      "Epoch 37/50\n",
      "478/478 [==============================] - 6s 13ms/step - loss: 2.5231 - val_loss: 2.9338\n",
      "\n",
      "Epoch 00037: val_loss improved from 2.93783 to 2.93377, saving model to wavenet_weights.hdf5\n",
      "Epoch 38/50\n",
      "478/478 [==============================] - 7s 14ms/step - loss: 2.5182 - val_loss: 2.9290\n",
      "\n",
      "Epoch 00038: val_loss improved from 2.93377 to 2.92903, saving model to wavenet_weights.hdf5\n",
      "Epoch 39/50\n",
      "478/478 [==============================] - 6s 13ms/step - loss: 2.5099 - val_loss: 2.9243\n",
      "\n",
      "Epoch 00039: val_loss improved from 2.92903 to 2.92434, saving model to wavenet_weights.hdf5\n",
      "Epoch 40/50\n",
      "478/478 [==============================] - 7s 14ms/step - loss: 2.5009 - val_loss: 2.9188\n",
      "\n",
      "Epoch 00040: val_loss improved from 2.92434 to 2.91884, saving model to wavenet_weights.hdf5\n",
      "Epoch 41/50\n",
      "478/478 [==============================] - 6s 13ms/step - loss: 2.4800 - val_loss: 2.9102\n",
      "\n",
      "Epoch 00041: val_loss improved from 2.91884 to 2.91020, saving model to wavenet_weights.hdf5\n",
      "Epoch 42/50\n",
      "478/478 [==============================] - 7s 14ms/step - loss: 2.4895 - val_loss: 2.9090\n",
      "\n",
      "Epoch 00042: val_loss improved from 2.91020 to 2.90900, saving model to wavenet_weights.hdf5\n",
      "Epoch 43/50\n",
      "478/478 [==============================] - 7s 14ms/step - loss: 2.4767 - val_loss: 2.8942\n",
      "\n",
      "Epoch 00043: val_loss improved from 2.90900 to 2.89424, saving model to wavenet_weights.hdf5\n",
      "Epoch 44/50\n"
     ]
    },
    {
     "name": "stdout",
     "output_type": "stream",
     "text": [
      "478/478 [==============================] - 7s 14ms/step - loss: 2.4541 - val_loss: 2.8933\n",
      "\n",
      "Epoch 00044: val_loss improved from 2.89424 to 2.89326, saving model to wavenet_weights.hdf5\n",
      "Epoch 45/50\n",
      "478/478 [==============================] - 7s 14ms/step - loss: 2.4715 - val_loss: 2.8858\n",
      "\n",
      "Epoch 00045: val_loss improved from 2.89326 to 2.88581, saving model to wavenet_weights.hdf5\n",
      "Epoch 46/50\n",
      "478/478 [==============================] - 7s 14ms/step - loss: 2.4498 - val_loss: 2.8846\n",
      "\n",
      "Epoch 00046: val_loss improved from 2.88581 to 2.88461, saving model to wavenet_weights.hdf5\n",
      "Epoch 47/50\n",
      "478/478 [==============================] - 7s 14ms/step - loss: 2.4578 - val_loss: 2.9061\n",
      "\n",
      "Epoch 00047: val_loss did not improve from 2.88461\n",
      "Epoch 48/50\n",
      "478/478 [==============================] - 7s 15ms/step - loss: 2.4485 - val_loss: 2.8717\n",
      "\n",
      "Epoch 00048: val_loss improved from 2.88461 to 2.87170, saving model to wavenet_weights.hdf5\n",
      "Epoch 49/50\n",
      "478/478 [==============================] - 7s 14ms/step - loss: 2.4481 - val_loss: 2.8715\n",
      "\n",
      "Epoch 00049: val_loss improved from 2.87170 to 2.87145, saving model to wavenet_weights.hdf5\n",
      "Epoch 50/50\n",
      "478/478 [==============================] - 7s 14ms/step - loss: 2.4384 - val_loss: 2.8844\n",
      "\n",
      "Epoch 00050: val_loss did not improve from 2.87145\n"
     ]
    }
   ],
   "source": [
    "checkpoint_cb = ModelCheckpoint(\n",
    "    \"wavenet_weights.hdf5\", \n",
    "    monitor='val_loss', \n",
    "    mode='min',\n",
    "    save_best_only=True,\n",
    "    verbose=1\n",
    "    )\n",
    "\n",
    "history = model.fit(X_train,\n",
    "                    Y_train,\n",
    "                    batch_size=128,\n",
    "                    epochs=50,\n",
    "                    validation_data=(X_val, Y_val),\n",
    "                    verbose=1,\n",
    "                    callbacks=[checkpoint_cb]\n",
    "                   )"
   ]
  },
  {
   "cell_type": "code",
   "execution_count": 20,
   "id": "2a6d5d31",
   "metadata": {},
   "outputs": [],
   "source": [
    "# load the trained model\n",
    "model = tf.keras.models.load_model('wavenet_weights.hdf5')"
   ]
  },
  {
   "cell_type": "code",
   "execution_count": 22,
   "id": "8704b190",
   "metadata": {},
   "outputs": [
    {
     "name": "stdout",
     "output_type": "stream",
     "text": [
      "[125, 79, 125, 79, 125, 125, 125, 125, 125, 125]\n"
     ]
    }
   ],
   "source": [
    "import random\n",
    "ind = np.random.randint(0,len(X_val)-1)\n",
    "\n",
    "random_music = X_val[ind]\n",
    "\n",
    "predictions=[]\n",
    "for i in range(10):\n",
    "\n",
    "    random_music = random_music.reshape(1,no_timesteps)\n",
    "\n",
    "    prob  = model.predict(random_music)[0]\n",
    "    y_pred= np.argmax(prob,axis=0)\n",
    "    predictions.append(y_pred)\n",
    "\n",
    "    random_music = np.insert(random_music[0],len(random_music[0]),y_pred)\n",
    "    random_music = random_music[1:]\n",
    "    \n",
    "print(predictions)"
   ]
  },
  {
   "cell_type": "code",
   "execution_count": 23,
   "id": "2c8a972d",
   "metadata": {},
   "outputs": [],
   "source": [
    "# convert prediction to notes\n",
    "X_int_to_note = dict((number, note_) for number, note_ in enumerate(unique_X)) \n",
    "predicted_notes = [X_int_to_note[i] for i in predictions]"
   ]
  },
  {
   "cell_type": "code",
   "execution_count": 24,
   "id": "7cea8998",
   "metadata": {},
   "outputs": [],
   "source": [
    "def convert_to_midi(prediction_output):\n",
    "   \n",
    "    offset = 0\n",
    "    output_notes = []\n",
    "\n",
    "    # create note and chord objects based on the values generated by the model\n",
    "    for pattern in prediction_output:\n",
    "        \n",
    "        # pattern is a chord\n",
    "        if ('.' in pattern) or pattern.isdigit():\n",
    "            notes_in_chord = pattern.split('.')\n",
    "            notes = []\n",
    "            for current_note in notes_in_chord:\n",
    "                \n",
    "                cn=int(current_note)\n",
    "                new_note = note.Note(cn)\n",
    "                new_note.storedInstrument = instrument.Piano()\n",
    "                notes.append(new_note)\n",
    "                \n",
    "            new_chord = chord.Chord(notes)\n",
    "            new_chord.offset = offset\n",
    "            output_notes.append(new_chord)\n",
    "            \n",
    "        # pattern is a note\n",
    "        else:\n",
    "            \n",
    "            new_note = note.Note(pattern)\n",
    "            new_note.offset = offset\n",
    "            new_note.storedInstrument = instrument.Piano()\n",
    "            output_notes.append(new_note)\n",
    "\n",
    "        # increase offset each iteration so that notes do not stack\n",
    "        offset += 1\n",
    "    midi_stream = stream.Stream(output_notes)\n",
    "    midi_stream.write('midi', fp='wavenet_music.mid')"
   ]
  },
  {
   "cell_type": "code",
   "execution_count": 25,
   "id": "724963b9",
   "metadata": {},
   "outputs": [],
   "source": [
    "convert_to_midi(predicted_notes)"
   ]
  },
  {
   "cell_type": "code",
   "execution_count": null,
   "id": "6145aa8d",
   "metadata": {},
   "outputs": [],
   "source": []
  }
 ],
 "metadata": {
  "kernelspec": {
   "display_name": "Python 3",
   "language": "python",
   "name": "python3"
  },
  "language_info": {
   "codemirror_mode": {
    "name": "ipython",
    "version": 3
   },
   "file_extension": ".py",
   "mimetype": "text/x-python",
   "name": "python",
   "nbconvert_exporter": "python",
   "pygments_lexer": "ipython3",
   "version": "3.9.2"
  }
 },
 "nbformat": 4,
 "nbformat_minor": 5
}
