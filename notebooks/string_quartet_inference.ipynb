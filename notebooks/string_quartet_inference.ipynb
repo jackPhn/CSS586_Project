{
 "cells": [
  {
   "cell_type": "markdown",
   "id": "85fc3b10",
   "metadata": {},
   "source": [
    "# String quartet MTVAE model for interpolation\n",
    "\n",
    "Author: Alex Kyllo\n",
    "\n",
    "Date: 2021-06-06"
   ]
  },
  {
   "cell_type": "markdown",
   "id": "79e2583d",
   "metadata": {},
   "source": [
    "This notebook demonstrates string quartet music interpolation\n",
    "with a trained Multi-Track Variational Autoencoder (MTVAE) model."
   ]
  },
  {
   "cell_type": "code",
   "execution_count": null,
   "id": "8d37d53e",
   "metadata": {},
   "outputs": [],
   "source": [
    "import os\n",
    "import sys\n",
    "from pathlib import Path\n",
    "\n",
    "import numpy as np\n",
    "\n",
    "sys.path.append(\"..\")\n",
    "from musiclearn import config, processing, vae_models"
   ]
  },
  {
   "cell_type": "markdown",
   "id": "c816051d",
   "metadata": {},
   "source": [
    "Check the `musicnet_midis` directory path\n",
    "and show the 36 string quartet MIDI filenames:"
   ]
  },
  {
   "cell_type": "code",
   "execution_count": null,
   "id": "987fb08f",
   "metadata": {},
   "outputs": [],
   "source": [
    "midis = Path(config.MUSICNET_MIDI_DIR)\n",
    "str(midis)"
   ]
  },
  {
   "cell_type": "code",
   "execution_count": null,
   "id": "38caaafe",
   "metadata": {},
   "outputs": [],
   "source": [
    "sq = processing.STRING_QUARTETS\n",
    "sq"
   ]
  },
  {
   "cell_type": "markdown",
   "id": "ebfaf381",
   "metadata": {},
   "source": [
    "Configure the string quartet MIDI program numbers and\n",
    "beat/measure resolution and length"
   ]
  },
  {
   "cell_type": "code",
   "execution_count": null,
   "id": "51c3c586",
   "metadata": {},
   "outputs": [],
   "source": [
    "ticks_per_beat = 4\n",
    "beats_per_phrase = 4\n",
    "programs = [40, 40, 41, 42]  # Violin x2, Viola, Cello\n",
    "num_measures = 16  # length of each sample in measures\n",
    "num_interpolations = 5  # Number of interpolations per pair"
   ]
  },
  {
   "cell_type": "markdown",
   "id": "1521c2dc",
   "metadata": {},
   "source": [
    "Load the best model from training experiments"
   ]
  },
  {
   "cell_type": "code",
   "execution_count": null,
   "id": "64070546",
   "metadata": {},
   "outputs": [],
   "source": [
    "exp_name = \"mtvae\"\n",
    "exp_time = \"2021-06-06T09:32:32\"\n",
    "saved_model_path = f\"../experiments/{exp_name}/{exp_time}/saved_model\""
   ]
  },
  {
   "cell_type": "code",
   "execution_count": null,
   "id": "e4b9d9d8",
   "metadata": {},
   "outputs": [],
   "source": [
    "model = vae_models.MultiTrackVAE.from_saved(saved_model_path)"
   ]
  },
  {
   "cell_type": "markdown",
   "id": "e64dc234",
   "metadata": {},
   "source": [
    "To test the model's ability to reconstruct its inputs and\n",
    "interpolate new music between them, we will create 18 pairs\n",
    "from the 36 original tracks and process them with the\n",
    "model's `interpolate` method."
   ]
  },
  {
   "cell_type": "code",
   "execution_count": null,
   "id": "07e2715b",
   "metadata": {},
   "outputs": [],
   "source": [
    "# zip the list of filenames together to make pairs\n",
    "half = len(sq) // 2\n",
    "left = sq[0:half]\n",
    "right = sq[half : len(sq)]\n",
    "pairs = list(zip(left, reversed(right)))\n",
    "pairs"
   ]
  },
  {
   "cell_type": "markdown",
   "id": "386b8b83",
   "metadata": {},
   "source": [
    "## Interpolation\n",
    "\n",
    "Now we'll use the model to reconstruct each of the pairs\n",
    "and use linear interpolation to generate 3 vectors in between them in the latent space.\n",
    "\n",
    "We'll truncate each track to the first 16 measures to save time and space."
   ]
  },
  {
   "cell_type": "code",
   "execution_count": null,
   "id": "fd4b4e06",
   "metadata": {},
   "outputs": [],
   "source": [
    "output_dir = Path(f\"../outputs/{exp_name}\")"
   ]
  },
  {
   "cell_type": "code",
   "execution_count": null,
   "id": "069b71ee",
   "metadata": {},
   "outputs": [],
   "source": [
    "for pair in pairs:\n",
    "    print(f\"Interpolating between {pair[0]} and {pair[1]}...\")\n",
    "    pairname = \"_\".join(\n",
    "        [\"_\".join([os.path.dirname(f), os.path.splitext(os.path.basename(f))[0]]) for f in pair]\n",
    "    )\n",
    "    pairdir = output_dir / pairname\n",
    "    os.makedirs(pairdir, exist_ok=True)\n",
    "    arrays = [\n",
    "        processing.score_to_array(\n",
    "            processing.midi_to_music21(midis / f).measures(0, num_measures), ticks_per_beat\n",
    "        )\n",
    "        for f in pair\n",
    "    ]\n",
    "    interpolations = model.interpolate(*arrays, num_interpolations)\n",
    "    # write the interpolations to disk as numpy arrays\n",
    "    npz_path = pairdir / f\"interpolations_{num_interpolations}.npz\"\n",
    "    np.savez_compressed(npz_path, *interpolations)\n",
    "    print(f\"NumPy arrays saved to {str(npz_path)}\")\n",
    "    for i, arr in enumerate(interpolations):\n",
    "        # write the interpolations to disk as MIDI format\n",
    "        score_i = processing.array_to_score(arr, programs=programs, resolution=ticks_per_beat)\n",
    "        score_i.write(\"midi\", pairdir / f\"interpolation_{num_measures}_{i}.mid\")\n",
    "        score_i.write(\"musicxml\", pairdir / f\"interpolation_{num_measures}_{i}.xml\")\n",
    "    print(f\"MIDI files saved to {str(pairdir / '*.mid')}\")\n",
    "    print(f\"MusicXML files saved to {str(pairdir / '*.xml')}\")\n",
    "    # write the interpolations to disk as MusicXML format (for sheet music printing)"
   ]
  },
  {
   "cell_type": "markdown",
   "id": "916519e3",
   "metadata": {},
   "source": [
    "## Convert MIDI files to WAV\n",
    "\n",
    "This way we can listen to them anywhere without synthesizer software.\n",
    "\n",
    "Requires the [fluidsynth](https://www.fluidsynth.org/) library installed on the system\n",
    "and a sound font such as the\n",
    "[Fluid Release 3 General-MIDI Soundfont](https://member.keymusician.com/Member/FluidR3_GM/index.html)"
   ]
  },
  {
   "cell_type": "code",
   "execution_count": null,
   "id": "c1461da6",
   "metadata": {
    "lines_to_next_cell": 0
   },
   "outputs": [],
   "source": [
    "SOUND_FONT = \"/usr/share/sounds/sf2/FluidR3_GM.sf2\""
   ]
  },
  {
   "cell_type": "code",
   "execution_count": null,
   "id": "933dcc71",
   "metadata": {},
   "outputs": [],
   "source": [
    "import midi2audio\n",
    "\n",
    "fs = midi2audio.FluidSynth(sound_font=SOUND_FONT)"
   ]
  },
  {
   "cell_type": "code",
   "execution_count": null,
   "id": "345dc1c0",
   "metadata": {},
   "outputs": [],
   "source": [
    "for pair in pairs:\n",
    "    pairname = \"_\".join(\n",
    "        [\"_\".join([os.path.dirname(f), os.path.splitext(os.path.basename(f))[0]]) for f in pair]\n",
    "    )\n",
    "    pairdir = output_dir / pairname\n",
    "    mids = pairdir.rglob(\"*.mid\")\n",
    "    for mid in mids:\n",
    "        wav = mid.with_suffix(\".wav\")\n",
    "        fs.midi_to_audio(mid, wav)\n",
    "        print(f\"{mid} converted to {wav}\")"
   ]
  },
  {
   "cell_type": "markdown",
   "id": "0122c7e0",
   "metadata": {},
   "source": [
    "## Listen to WAV files\n",
    "\n",
    "using the IPython Audio widget"
   ]
  },
  {
   "cell_type": "code",
   "execution_count": null,
   "id": "a1090131",
   "metadata": {},
   "outputs": [],
   "source": [
    "from IPython.display import Audio"
   ]
  },
  {
   "cell_type": "code",
   "execution_count": null,
   "id": "4f00c476",
   "metadata": {
    "lines_to_next_cell": 2
   },
   "outputs": [],
   "source": [
    "wavs = sorted(list(output_dir.rglob(\"*.wav\")))"
   ]
  },
  {
   "cell_type": "markdown",
   "id": "5b1eca90",
   "metadata": {},
   "source": [
    "Let's listen to interpolations between:\n",
    "\n",
    "- Beethoven's String Quartet No 15 in A minor part 2. Allegro ma non tanto\n",
    "- Mozart String Quartet No 19 in C major part 4. Allegro molto"
   ]
  },
  {
   "cell_type": "markdown",
   "id": "558edd3e",
   "metadata": {},
   "source": [
    "Reconstruction of Beethoven:"
   ]
  },
  {
   "cell_type": "code",
   "execution_count": null,
   "id": "eaea58de",
   "metadata": {},
   "outputs": [],
   "source": [
    "Audio(wavs[0])"
   ]
  },
  {
   "cell_type": "markdown",
   "id": "d11f4c50",
   "metadata": {},
   "source": [
    "1/4 of the way from Beethoven to Mozart:"
   ]
  },
  {
   "cell_type": "code",
   "execution_count": null,
   "id": "d3246229",
   "metadata": {},
   "outputs": [],
   "source": [
    "Audio(wavs[1])"
   ]
  },
  {
   "cell_type": "markdown",
   "id": "173375e5",
   "metadata": {},
   "source": [
    "Halfway between Beethoven and Mozart:"
   ]
  },
  {
   "cell_type": "code",
   "execution_count": null,
   "id": "b1f44992",
   "metadata": {},
   "outputs": [],
   "source": [
    "Audio(wavs[2])"
   ]
  },
  {
   "cell_type": "markdown",
   "id": "49462b52",
   "metadata": {},
   "source": [
    "3/4 of the way from Beethoven to Mozart:"
   ]
  },
  {
   "cell_type": "code",
   "execution_count": null,
   "id": "448ab2dd",
   "metadata": {},
   "outputs": [],
   "source": [
    "Audio(wavs[3])"
   ]
  },
  {
   "cell_type": "markdown",
   "id": "ea90b630",
   "metadata": {},
   "source": [
    "Reconstruction of Mozart:"
   ]
  },
  {
   "cell_type": "code",
   "execution_count": null,
   "id": "7d4e14aa",
   "metadata": {},
   "outputs": [],
   "source": [
    "Audio(wavs[4])"
   ]
  }
 ],
 "metadata": {
  "jupytext": {
   "cell_metadata_filter": "-all",
   "main_language": "python",
   "notebook_metadata_filter": "-all"
  },
  "kernelspec": {
   "display_name": "Python 3",
   "language": "python",
   "name": "python3"
  },
  "language_info": {
   "codemirror_mode": {
    "name": "ipython",
    "version": 3
   },
   "file_extension": ".py",
   "mimetype": "text/x-python",
   "name": "python",
   "nbconvert_exporter": "python",
   "pygments_lexer": "ipython3",
   "version": "3.9.2"
  }
 },
 "nbformat": 4,
 "nbformat_minor": 5
}
