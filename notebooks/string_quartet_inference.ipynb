{
 "cells": [
  {
   "cell_type": "markdown",
   "id": "0dd6ea12",
   "metadata": {},
   "source": [
    "# String quartet MTVAE model for interpolation\n",
    "\n",
    "Author: Alex Kyllo\n",
    "Date: 2021-06-06"
   ]
  },
  {
   "cell_type": "markdown",
   "id": "8575683f",
   "metadata": {},
   "source": [
    "This notebook demonstrates string quartet music interpolation\n",
    "with a trained Multi-Track Variational Autoencoder (MTVAE) model."
   ]
  },
  {
   "cell_type": "code",
   "execution_count": null,
   "id": "d05cc419",
   "metadata": {},
   "outputs": [],
   "source": [
    "import os\n",
    "import sys\n",
    "from pathlib import Path\n",
    "\n",
    "import numpy as np\n",
    "\n",
    "sys.path.append(\"..\")\n",
    "from musiclearn import config, processing, vae_models"
   ]
  },
  {
   "cell_type": "markdown",
   "id": "92ae1a2d",
   "metadata": {},
   "source": [
    "Check the `musicnet_midis` directory path\n",
    "and show the 36 string quartet MIDI filenames:"
   ]
  },
  {
   "cell_type": "code",
   "execution_count": null,
   "id": "6d48bceb",
   "metadata": {},
   "outputs": [],
   "source": [
    "midis = Path(config.MUSICNET_MIDI_DIR)\n",
    "str(midis)"
   ]
  },
  {
   "cell_type": "code",
   "execution_count": null,
   "id": "ec6763a5",
   "metadata": {},
   "outputs": [],
   "source": [
    "sq = processing.STRING_QUARTETS\n",
    "sq"
   ]
  },
  {
   "cell_type": "markdown",
   "id": "9b4cb847",
   "metadata": {},
   "source": [
    "Configure the string quartet MIDI program numbers and\n",
    "beat/measure resolution and length"
   ]
  },
  {
   "cell_type": "code",
   "execution_count": null,
   "id": "6c310a2a",
   "metadata": {},
   "outputs": [],
   "source": [
    "ticks_per_beat = 4\n",
    "beats_per_phrase = 4\n",
    "programs = [40, 40, 41, 42]  # Violin x2, Viola, Cello\n",
    "num_measures = 16  # length of each sample in measures\n",
    "num_interpolations = 5  # Number of interpolations per pair"
   ]
  },
  {
   "cell_type": "markdown",
   "id": "766c1aae",
   "metadata": {},
   "source": [
    "Load the best model from training experiments"
   ]
  },
  {
   "cell_type": "code",
   "execution_count": null,
   "id": "a0b5982a",
   "metadata": {},
   "outputs": [],
   "source": [
    "exp_name = \"mtvae\"\n",
    "exp_time = \"2021-06-06T09:32:32\"\n",
    "saved_model_path = f\"../experiments/{exp_name}/{exp_time}/saved_model\""
   ]
  },
  {
   "cell_type": "code",
   "execution_count": null,
   "id": "c9ba05e2",
   "metadata": {},
   "outputs": [],
   "source": [
    "model = vae_models.MultiTrackVAE.from_saved(saved_model_path)"
   ]
  },
  {
   "cell_type": "markdown",
   "id": "a5073583",
   "metadata": {},
   "source": [
    "To test the model's ability to reconstruct its inputs and\n",
    "interpolate new music between them, we will create 18 pairs\n",
    "from the 36 original tracks and process them with the\n",
    "model's `interpolate` method."
   ]
  },
  {
   "cell_type": "code",
   "execution_count": null,
   "id": "4427e473",
   "metadata": {},
   "outputs": [],
   "source": [
    "# zip the list of filenames together to make pairs\n",
    "half = len(sq) // 2\n",
    "left = sq[0:half]\n",
    "right = sq[half : len(sq)]\n",
    "pairs = list(zip(left, reversed(right)))\n",
    "pairs"
   ]
  },
  {
   "cell_type": "markdown",
   "id": "0ad1c0b4",
   "metadata": {},
   "source": [
    "## Interpolation\n",
    "\n",
    "Now we'll use the model to reconstruct each of the pairs\n",
    "and use linear interpolation to generate 3 vectors in between them in the latent space.\n",
    "\n",
    "We'll truncate each track to the first 16 measures to save time and space."
   ]
  },
  {
   "cell_type": "code",
   "execution_count": null,
   "id": "8687a787",
   "metadata": {},
   "outputs": [],
   "source": [
    "output_dir = Path(f\"../outputs/{exp_name}\")"
   ]
  },
  {
   "cell_type": "code",
   "execution_count": null,
   "id": "c225759c",
   "metadata": {},
   "outputs": [],
   "source": [
    "for pair in pairs:\n",
    "    print(f\"Interpolating between {pair[0]} and {pair[1]}...\")\n",
    "    pairname = \"_\".join(\n",
    "        [\"_\".join([os.path.dirname(f), os.path.splitext(os.path.basename(f))[0]]) for f in pair]\n",
    "    )\n",
    "    pairdir = output_dir / pairname\n",
    "    os.makedirs(pairdir, exist_ok=True)\n",
    "    arrays = [\n",
    "        processing.score_to_array(\n",
    "            processing.midi_to_music21(midis / f).measures(0, num_measures), ticks_per_beat\n",
    "        )\n",
    "        for f in pair\n",
    "    ]\n",
    "    interpolations = model.interpolate(*arrays, num_interpolations)\n",
    "    # write the interpolations to disk as numpy arrays\n",
    "    npz_path = pairdir / f\"interpolations_{num_interpolations}.npz\"\n",
    "    np.savez_compressed(npz_path, *interpolations)\n",
    "    print(f\"NumPy arrays saved to {str(npz_path)}\")\n",
    "    for i, arr in enumerate(interpolations):\n",
    "        # write the interpolations to disk as MIDI format\n",
    "        score_i = processing.array_to_score(arr, programs=programs, resolution=ticks_per_beat)\n",
    "        score_i.write(\"midi\", pairdir / f\"interpolation_{num_measures}_{i}.mid\")\n",
    "        score_i.write(\"musicxml\", pairdir / f\"interpolation_{num_measures}_{i}.xml\")\n",
    "    print(f\"MIDI files saved to {str(pairdir / '*.mid')}\")\n",
    "    print(f\"MusicXML files saved to {str(pairdir / '*.xml')}\")\n",
    "    # write the interpolations to disk as MusicXML format (for sheet music printing)"
   ]
  },
  {
   "cell_type": "markdown",
   "id": "8b14b252",
   "metadata": {},
   "source": [
    "## Convert MIDI files to WAV\n",
    "\n",
    "This way we can listen to them anywhere without synthesizer software.\n",
    "\n",
    "Requires the [fluidsynth](https://www.fluidsynth.org/) library installed on the system\n",
    "and a sound font such as the\n",
    "[Fluid Release 3 General-MIDI Soundfont](https://member.keymusician.com/Member/FluidR3_GM/index.html)"
   ]
  },
  {
   "cell_type": "code",
   "execution_count": null,
   "id": "8d9bd7c1",
   "metadata": {
    "lines_to_next_cell": 0
   },
   "outputs": [],
   "source": [
    "SOUND_FONT = \"/usr/share/sounds/sf2/FluidR3_GM.sf2\""
   ]
  },
  {
   "cell_type": "code",
   "execution_count": null,
   "id": "76fd54a3",
   "metadata": {},
   "outputs": [],
   "source": [
    "import midi2audio\n",
    "\n",
    "fs = midi2audio.FluidSynth(sound_font=SOUND_FONT)"
   ]
  },
  {
   "cell_type": "code",
   "execution_count": null,
   "id": "81cd2471",
   "metadata": {},
   "outputs": [],
   "source": [
    "for pair in pairs:\n",
    "    pairname = \"_\".join(\n",
    "        [\"_\".join([os.path.dirname(f), os.path.splitext(os.path.basename(f))[0]]) for f in pair]\n",
    "    )\n",
    "    pairdir = output_dir / pairname\n",
    "    mids = pairdir.rglob(\"*.mid\")\n",
    "    for mid in mids:\n",
    "        wav = mid.with_suffix(\".wav\")\n",
    "        fs.midi_to_audio(mid, wav)\n",
    "        print(f\"{mid} converted to {wav}\")"
   ]
  },
  {
   "cell_type": "markdown",
   "id": "7ae558e0",
   "metadata": {},
   "source": [
    "## Listen to WAV files\n",
    "\n",
    "using the IPython Audio widget"
   ]
  },
  {
   "cell_type": "code",
   "execution_count": null,
   "id": "2b57a482",
   "metadata": {},
   "outputs": [],
   "source": [
    "from IPython.display import Audio"
   ]
  },
  {
   "cell_type": "code",
   "execution_count": null,
   "id": "7f5eadda",
   "metadata": {
    "lines_to_next_cell": 2
   },
   "outputs": [],
   "source": [
    "wavs = sorted(list(output_dir.rglob(\"*.wav\")))"
   ]
  },
  {
   "cell_type": "markdown",
   "id": "b7a0efb4",
   "metadata": {},
   "source": [
    "Let's listen to interpolations between:\n",
    "\n",
    "- Beethoven's String Quartet No 15 in A minor part 2. Allegro ma non tanto\n",
    "- Mozart String Quartet No 19 in C major part 4. Allegro molto"
   ]
  },
  {
   "cell_type": "markdown",
   "id": "b5ac402b",
   "metadata": {},
   "source": [
    "Reconstruction of Beethoven:"
   ]
  },
  {
   "cell_type": "code",
   "execution_count": null,
   "id": "32cb088d",
   "metadata": {},
   "outputs": [],
   "source": [
    "Audio(wavs[0])"
   ]
  },
  {
   "cell_type": "markdown",
   "id": "7ec90fb3",
   "metadata": {},
   "source": [
    "1/4 of the way from Beethoven to Mozart:"
   ]
  },
  {
   "cell_type": "code",
   "execution_count": null,
   "id": "e358eb06",
   "metadata": {},
   "outputs": [],
   "source": [
    "Audio(wavs[1])"
   ]
  },
  {
   "cell_type": "markdown",
   "id": "8fa7bc72",
   "metadata": {},
   "source": [
    "Halfway between Beethoven and Mozart:"
   ]
  },
  {
   "cell_type": "code",
   "execution_count": null,
   "id": "287c779e",
   "metadata": {},
   "outputs": [],
   "source": [
    "Audio(wavs[2])"
   ]
  },
  {
   "cell_type": "markdown",
   "id": "8c7bef7a",
   "metadata": {},
   "source": [
    "3/4 of the way from Beethoven to Mozart:"
   ]
  },
  {
   "cell_type": "code",
   "execution_count": null,
   "id": "eb617716",
   "metadata": {},
   "outputs": [],
   "source": [
    "Audio(wavs[3])"
   ]
  },
  {
   "cell_type": "markdown",
   "id": "211e4d4f",
   "metadata": {},
   "source": [
    "Reconstruction of Mozart:"
   ]
  },
  {
   "cell_type": "code",
   "execution_count": null,
   "id": "57c5601b",
   "metadata": {},
   "outputs": [],
   "source": [
    "Audio(wavs[4])"
   ]
  }
 ],
 "metadata": {
  "jupytext": {
   "cell_metadata_filter": "-all",
   "main_language": "python",
   "notebook_metadata_filter": "-all"
  }
 },
 "nbformat": 4,
 "nbformat_minor": 5
}
